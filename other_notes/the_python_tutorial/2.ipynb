{
 "cells": [
  {
   "cell_type": "markdown",
   "metadata": {},
   "source": [
    "# 2.1 Invoking the interpreter\n",
    "\n",
    "source: https://docs.python.org/3/tutorial/interpreter.html"
   ]
  },
  {
   "cell_type": "markdown",
   "metadata": {},
   "source": [
    "1. Opening the .exe from where it is installed.\n",
    "2.  If you have the py.exe launcher installed, you can use the `py` command\n",
    "3. Typing `python -c \"command\" [arg] ...` to execute statement(s) in *command*\n",
    "4. Typing `python -c module [arg]` executes the source file for *module*\n",
    "5. See [Excursus: Setting environment variables](https://docs.python.org/3/using/windows.html#setting-envvars) for other ways to launch Python\n",
    "\n",
    "+ Use `-i` right before the script name to enter interactive mode after the script runs. See [this video](https://youtu.be/KjHKbmjFZLk?si=WtKcMigSgT30Pa9h)\n",
    "\n",
    "### Quitting the interpreter\n",
    "\n",
    "+ Use an EOF character\n",
    "+ Typing `quit()`\n",
    "\n",
    "\n",
    "***\n",
    "\n",
    "**Sidenote on the features of the interpreter**\n",
    "\n",
    "The interpreter’s line-editing features include interactive editing, history substitution and code completion on systems that support the GNU Readline library. Perhaps the quickest check to see whether command line editing is supported is typing Control-P to the first Python prompt you get. If it beeps, you have command line editing; see Appendix Interactive Input Editing and History Substitution for an introduction to the keys. If nothing appears to happen, or if ^P is echoed, command line editing isn’t available; you’ll only be able to use backspace to remove characters from the current line.\n",
    "\n",
    "***\n",
    "\n",
    "## 2.1.2 Interactive mode\n",
    "\n",
    "When commands are read from a tty, the interpreter is said to be in interactive mode\n",
    "\n",
    "In this mode, the tty will show two kinds of prompts-\n",
    "\n",
    "1. `>>>`- It says 'give me your command'\n",
    "1. `...`- It says ' you can continue the previous statement after me'\n",
    "\n",
    "**example**\n",
    "```\n",
    ">>> the_world_is_flat = True\n",
    ">>> if the_world_is_flat:\n",
    "...     print(\"Be careful not to fall off!\")\n",
    "\n",
    "Be careful not to fall off\n",
    "```\n",
    "\n",
    "more info: https://docs.python.org/3/tutorial/appendix.html#tut-interac"
   ]
  },
  {
   "cell_type": "markdown",
   "metadata": {},
   "source": [
    "# 2.2 The interpreter and its environment\n",
    "\n",
    "+ Python source files are utf-8 encoded. \n",
    "+ Standard library only uses ASCII characters (something that all portable code should be using).\n",
    "\n",
    "### Using other encoding schemes\n",
    "\n",
    "To declare an encoding other than the default one, a special comment line should be added as the first line of the file. The syntax is as follows\n",
    "\n",
    "```\n",
    "# -*- coding: encoding -*-\n",
    "```\n",
    "\n",
    "where *encoding* is one of the valid [codecs](https://docs.python.org/3/library/codecs.html#module-codecs) supported by python\n",
    "\n",
    "example:\n",
    "\n",
    "To use the Windows-1252 encoding- \n",
    "\n",
    "```\n",
    "# -*- coding: cp1252 -*-\n",
    "```\n",
    "\n",
    "A video on the codecs module: https://youtu.be/-CvC8h-VzIs?si=v7rHRQd3q6LjSOIu"
   ]
  }
 ],
 "metadata": {
  "kernelspec": {
   "display_name": "base",
   "language": "python",
   "name": "python3"
  },
  "language_info": {
   "codemirror_mode": {
    "name": "ipython",
    "version": 3
   },
   "file_extension": ".py",
   "mimetype": "text/x-python",
   "name": "python",
   "nbconvert_exporter": "python",
   "pygments_lexer": "ipython3",
   "version": "3.11.5"
  }
 },
 "nbformat": 4,
 "nbformat_minor": 2
}

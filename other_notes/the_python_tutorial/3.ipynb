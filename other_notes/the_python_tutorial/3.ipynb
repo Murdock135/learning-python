{
 "cells": [
  {
   "cell_type": "markdown",
   "metadata": {},
   "source": [
    "# An informal introduction to Python\n",
    "source: https://docs.python.org/3/tutorial/introduction.html"
   ]
  },
  {
   "cell_type": "markdown",
   "metadata": {},
   "source": [
    "Some notes from the source\n",
    "\n",
    "+ the last printed expression is assigned to the variable `-`. However, it is in 'read-only'. (section 3.1.1)\n",
    "+ To print out the raw string, use the 'r' before the string. See example 3 below\n",
    "\n",
    "    (*Note: Raw strings cannot end in an odd number of `\\` characters. See [FAQ entry](https://docs.python.org/3/faq/programming.html#faq-programming-raw-string-backslash) for more info. This is actually why windows paths don't work in python.*)\n",
    "    \n",
    "+ Lists support concatenation e.g. \n",
    "\n",
    "    ```\n",
    "    >>>squares = [1,2]\n",
    "    >>>squares + [3,4]\n",
    "    [1,2,3,4]\n",
    "    ```\n",
    "\n",
    "+ Simple assignment in Python never copies data. When you assign a list to a variable, the variable refers to the existing list. Any changes you make to the list through one variable will be seen through all other variables that refer to it.:\n",
    "\n",
    "    ```\n",
    "    >>> rgb = ['red', 'green', blue']\n",
    "    >>> rgba = rgb\n",
    "    >>> id(rgb) == id(rgba)\n",
    "    True\n",
    "    ```\n",
    "\n",
    "    ```\n",
    "    >>>rgba.append(\"Alph\")\n",
    "    >>>rgb\n",
    "    [\"Red\", \"Green\", \"Blue\", \"Alph\"]\n",
    "    ```\n",
    "\n",
    "+ Slice operations return a new list.\n",
    "+ Conditional statements are evaluated in a way where any non-empty sequence is True. (see example 4)\n",
    "+ In loops, the keyword argument end can be used to avoid the newline after the output, or end the output with a different string. (see example 5)\n",
    "\n"
   ]
  },
  {
   "cell_type": "markdown",
   "metadata": {},
   "source": [
    "### **example 1**"
   ]
  },
  {
   "cell_type": "code",
   "execution_count": 4,
   "metadata": {},
   "outputs": [
    {
     "data": {
      "text/plain": [
       "23"
      ]
     },
     "execution_count": 4,
     "metadata": {},
     "output_type": "execute_result"
    }
   ],
   "source": [
    "23"
   ]
  },
  {
   "cell_type": "code",
   "execution_count": 5,
   "metadata": {},
   "outputs": [
    {
     "data": {
      "text/plain": [
       "23"
      ]
     },
     "execution_count": 5,
     "metadata": {},
     "output_type": "execute_result"
    }
   ],
   "source": [
    "_"
   ]
  },
  {
   "cell_type": "markdown",
   "metadata": {},
   "source": [
    "### **example 2**\n",
    "\n",
    "This makes it convenient to use the interpreter to continue calculations."
   ]
  },
  {
   "cell_type": "code",
   "execution_count": 6,
   "metadata": {},
   "outputs": [
    {
     "data": {
      "text/plain": [
       "12.059999999999999"
      ]
     },
     "execution_count": 6,
     "metadata": {},
     "output_type": "execute_result"
    }
   ],
   "source": [
    "tax = 12/100\n",
    "price = 100.50\n",
    "\n",
    "price*tax"
   ]
  },
  {
   "cell_type": "code",
   "execution_count": 7,
   "metadata": {},
   "outputs": [
    {
     "data": {
      "text/plain": [
       "112.56"
      ]
     },
     "execution_count": 7,
     "metadata": {},
     "output_type": "execute_result"
    }
   ],
   "source": [
    "price + _"
   ]
  },
  {
   "cell_type": "markdown",
   "metadata": {},
   "source": [
    "### **example 3**"
   ]
  },
  {
   "cell_type": "code",
   "execution_count": 8,
   "metadata": {},
   "outputs": [
    {
     "name": "stdout",
     "output_type": "stream",
     "text": [
      "C:\\some\n",
      "ame\n",
      "C:\\some\\name\n"
     ]
    }
   ],
   "source": [
    "print('C:\\some\\name')  # here \\n means newline!\n",
    "\n",
    "\n",
    "print(r'C:\\some\\name')  # note the r before the quote"
   ]
  },
  {
   "cell_type": "markdown",
   "metadata": {},
   "source": [
    "### **example 4**"
   ]
  },
  {
   "cell_type": "code",
   "execution_count": 9,
   "metadata": {},
   "outputs": [
    {
     "name": "stdout",
     "output_type": "stream",
     "text": [
      "1\n"
     ]
    }
   ],
   "source": [
    "foo = [1]\n",
    "bar = []\n",
    "\n",
    "if foo:\n",
    "    print(1)\n",
    "if bar:\n",
    "    print(1)"
   ]
  },
  {
   "cell_type": "markdown",
   "metadata": {},
   "source": [
    "### Example 5"
   ]
  },
  {
   "cell_type": "code",
   "execution_count": 10,
   "metadata": {},
   "outputs": [
    {
     "name": "stdout",
     "output_type": "stream",
     "text": [
      "0,1,1,2,3,5,8,13,21,34,55,89,144,233,377,610,987,"
     ]
    }
   ],
   "source": [
    "a, b = 0, 1\n",
    "while a < 1000:\n",
    "    print(a, end=',')\n",
    "    a, b = b, a+b"
   ]
  }
 ],
 "metadata": {
  "kernelspec": {
   "display_name": "base",
   "language": "python",
   "name": "python3"
  },
  "language_info": {
   "codemirror_mode": {
    "name": "ipython",
    "version": 3
   },
   "file_extension": ".py",
   "mimetype": "text/x-python",
   "name": "python",
   "nbconvert_exporter": "python",
   "pygments_lexer": "ipython3",
   "version": "3.11.5"
  }
 },
 "nbformat": 4,
 "nbformat_minor": 2
}

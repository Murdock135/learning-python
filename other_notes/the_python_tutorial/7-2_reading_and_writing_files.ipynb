{
 "cells": [
  {
   "cell_type": "markdown",
   "metadata": {},
   "source": [
    "# Intro\n",
    "\n",
    "- The most common function is `open(filename, mode, encoding=None)`\n",
    "- If `mode=binary`, you cannot use `encoding`.\n",
    "- Normally, files are opened in 'text mode'. That means, you read and write strings from and to the file, which are encoded in a specific encoding.\n",
    "\n",
    "*Note of caution*: \n",
    "- In text mode, during reading a file, platform-specific line endings (`\\n` on unix, `\\r\\n` on windows) are converted to just `\\n`. And in writing mode, the line endings are converted back to platform-specific ones. \n",
    "- The above behavior will corrupt binary data files like `JPEG` or `EXE`. Therefore, you must use `mode=Binary` when using those kinds of files.\n",
    "\n",
    "# The `with` keyword\n",
    "\n",
    "It is good practice to use the `with` keyword when dealing with file objects. The advantage is that the file is properly closed after its suite finishes, even if an exception is raised at some point. Using `with` is also much shorter than writing equivalent `try-finally` blocks:"
   ]
  },
  {
   "cell_type": "code",
   "execution_count": 2,
   "metadata": {},
   "outputs": [
    {
     "data": {
      "text/plain": [
       "True"
      ]
     },
     "execution_count": 2,
     "metadata": {},
     "output_type": "execute_result"
    }
   ],
   "source": [
    "file_path = 'c:/Users/Zayan/Documents/code/personal_repos/learningpython/Basics/whatever.py'\n",
    "with open(file_path, encoding=\"utf-8\") as f:\n",
    "    read_data = f.read()\n",
    "\n",
    "# We can check that the file has been automatically closed.\n",
    "f.closed"
   ]
  }
 ],
 "metadata": {
  "kernelspec": {
   "display_name": "base",
   "language": "python",
   "name": "python3"
  },
  "language_info": {
   "codemirror_mode": {
    "name": "ipython",
    "version": 3
   },
   "file_extension": ".py",
   "mimetype": "text/x-python",
   "name": "python",
   "nbconvert_exporter": "python",
   "pygments_lexer": "ipython3",
   "version": "3.11.5"
  }
 },
 "nbformat": 4,
 "nbformat_minor": 2
}
